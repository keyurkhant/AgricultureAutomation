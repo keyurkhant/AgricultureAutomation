{
  "nbformat": 4,
  "nbformat_minor": 0,
  "metadata": {
    "kernelspec": {
      "display_name": "Python 3",
      "language": "python",
      "name": "python3"
    },
    "language_info": {
      "codemirror_mode": {
        "name": "ipython",
        "version": 3
      },
      "file_extension": ".py",
      "mimetype": "text/x-python",
      "name": "python",
      "nbconvert_exporter": "python",
      "pygments_lexer": "ipython3",
      "version": "3.7.4"
    },
    "colab": {
      "name": "All 3 Model.ipynb",
      "provenance": []
    }
  },
  "cells": [
    {
      "cell_type": "code",
      "metadata": {
        "id": "WXJSgYOTKY1w",
        "colab_type": "code",
        "colab": {}
      },
      "source": [
        "import pandas as pd\n",
        "import numpy as np\n",
        "\n",
        "from sklearn.neighbors import KNeighborsRegressor\n",
        "from sklearn.model_selection import train_test_split\n",
        "from sklearn.preprocessing import OneHotEncoder\n",
        "from sklearn import preprocessing\n",
        "from sklearn.metrics import mean_squared_error\n",
        "from sklearn.ensemble import GradientBoostingRegressor\n",
        "from sklearn.metrics import mean_squared_error as err\n",
        "from math import sqrt\n",
        "from sklearn.ensemble import RandomForestRegressor\n",
        "import xgboost as xgb\n",
        "\n",
        "import matplotlib.pyplot as plt\n",
        "%matplotlib inline"
      ],
      "execution_count": 0,
      "outputs": []
    },
    {
      "cell_type": "code",
      "metadata": {
        "id": "cLXbzkiIKkC2",
        "colab_type": "code",
        "outputId": "758a5326-ad0c-46e9-c32c-a42b135400d1",
        "colab": {
          "base_uri": "https://localhost:8080/",
          "height": 131
        }
      },
      "source": [
        "#from google.colab import drive\n",
        "#drive.mount('/content/drive')"
      ],
      "execution_count": 0,
      "outputs": [
        {
          "output_type": "stream",
          "text": [
            "Go to this URL in a browser: https://accounts.google.com/o/oauth2/auth?client_id=947318989803-6bn6qk8qdgf4n4g3pfee6491hc0brc4i.apps.googleusercontent.com&redirect_uri=urn%3aietf%3awg%3aoauth%3a2.0%3aoob&response_type=code&scope=email%20https%3a%2f%2fwww.googleapis.com%2fauth%2fdocs.test%20https%3a%2f%2fwww.googleapis.com%2fauth%2fdrive%20https%3a%2f%2fwww.googleapis.com%2fauth%2fdrive.photos.readonly%20https%3a%2f%2fwww.googleapis.com%2fauth%2fpeopleapi.readonly\n",
            "\n",
            "Enter your authorization code:\n",
            "··········\n",
            "Mounted at /content/drive\n"
          ],
          "name": "stdout"
        }
      ]
    },
    {
      "cell_type": "code",
      "metadata": {
        "id": "Klbxp-E-KY16",
        "colab_type": "code",
        "colab": {}
      },
      "source": [
        "#Read Dataset file\n",
        "file = pd.read_csv('/root/Keyur Khant/Project/Dataset/Final.csv')"
      ],
      "execution_count": 0,
      "outputs": []
    },
    {
      "cell_type": "code",
      "metadata": {
        "id": "59IlfnywKY2D",
        "colab_type": "code",
        "colab": {}
      },
      "source": [
        "#Make Dataframe of dataset file\n",
        "df = pd.DataFrame(file)"
      ],
      "execution_count": 0,
      "outputs": []
    },
    {
      "cell_type": "code",
      "metadata": {
        "id": "cBJf4SkIKY2L",
        "colab_type": "code",
        "outputId": "1c225429-4ba9-4944-dd16-e908ed6c41a8",
        "colab": {}
      },
      "source": [
        "df = pd.DataFrame(file)\n",
        "df.head(5)"
      ],
      "execution_count": 0,
      "outputs": [
        {
          "output_type": "execute_result",
          "data": {
            "text/html": [
              "<div>\n",
              "<style scoped>\n",
              "    .dataframe tbody tr th:only-of-type {\n",
              "        vertical-align: middle;\n",
              "    }\n",
              "\n",
              "    .dataframe tbody tr th {\n",
              "        vertical-align: top;\n",
              "    }\n",
              "\n",
              "    .dataframe thead th {\n",
              "        text-align: right;\n",
              "    }\n",
              "</style>\n",
              "<table border=\"1\" class=\"dataframe\">\n",
              "  <thead>\n",
              "    <tr style=\"text-align: right;\">\n",
              "      <th></th>\n",
              "      <th>State</th>\n",
              "      <th>City</th>\n",
              "      <th>Year</th>\n",
              "      <th>Season</th>\n",
              "      <th>Crop</th>\n",
              "      <th>Area</th>\n",
              "      <th>avgTemp</th>\n",
              "      <th>Cloud Cover</th>\n",
              "      <th>maxTemp</th>\n",
              "      <th>Precipitation</th>\n",
              "      <th>vapPressure</th>\n",
              "      <th>Rainfall</th>\n",
              "      <th>Wet Day Freq</th>\n",
              "      <th>minTemp</th>\n",
              "      <th>Production</th>\n",
              "    </tr>\n",
              "  </thead>\n",
              "  <tbody>\n",
              "    <tr>\n",
              "      <td>0</td>\n",
              "      <td>Gujarat</td>\n",
              "      <td>Ahmedabad</td>\n",
              "      <td>1997</td>\n",
              "      <td>Kharif</td>\n",
              "      <td>Arhar/Tur</td>\n",
              "      <td>2900</td>\n",
              "      <td>31.2394</td>\n",
              "      <td>52.4228</td>\n",
              "      <td>37.931</td>\n",
              "      <td>176.327</td>\n",
              "      <td>35.2654</td>\n",
              "      <td>540.9</td>\n",
              "      <td>12.6895</td>\n",
              "      <td>24.037</td>\n",
              "      <td>2200.0</td>\n",
              "    </tr>\n",
              "    <tr>\n",
              "      <td>1</td>\n",
              "      <td>Gujarat</td>\n",
              "      <td>Ahmedabad</td>\n",
              "      <td>1997</td>\n",
              "      <td>Kharif</td>\n",
              "      <td>Bajra</td>\n",
              "      <td>41700</td>\n",
              "      <td>31.2394</td>\n",
              "      <td>52.4228</td>\n",
              "      <td>37.931</td>\n",
              "      <td>176.327</td>\n",
              "      <td>35.2654</td>\n",
              "      <td>540.9</td>\n",
              "      <td>12.6895</td>\n",
              "      <td>24.037</td>\n",
              "      <td>43700.0</td>\n",
              "    </tr>\n",
              "    <tr>\n",
              "      <td>2</td>\n",
              "      <td>Gujarat</td>\n",
              "      <td>Ahmedabad</td>\n",
              "      <td>1997</td>\n",
              "      <td>Kharif</td>\n",
              "      <td>Dry chillies</td>\n",
              "      <td>700</td>\n",
              "      <td>31.2394</td>\n",
              "      <td>52.4228</td>\n",
              "      <td>37.931</td>\n",
              "      <td>176.327</td>\n",
              "      <td>35.2654</td>\n",
              "      <td>540.9</td>\n",
              "      <td>12.6895</td>\n",
              "      <td>24.037</td>\n",
              "      <td>700.0</td>\n",
              "    </tr>\n",
              "    <tr>\n",
              "      <td>3</td>\n",
              "      <td>Gujarat</td>\n",
              "      <td>Ahmedabad</td>\n",
              "      <td>1997</td>\n",
              "      <td>Kharif</td>\n",
              "      <td>Groundnut</td>\n",
              "      <td>500</td>\n",
              "      <td>31.2394</td>\n",
              "      <td>52.4228</td>\n",
              "      <td>37.931</td>\n",
              "      <td>176.327</td>\n",
              "      <td>35.2654</td>\n",
              "      <td>540.9</td>\n",
              "      <td>12.6895</td>\n",
              "      <td>24.037</td>\n",
              "      <td>600.0</td>\n",
              "    </tr>\n",
              "    <tr>\n",
              "      <td>4</td>\n",
              "      <td>Gujarat</td>\n",
              "      <td>Ahmedabad</td>\n",
              "      <td>1997</td>\n",
              "      <td>Kharif</td>\n",
              "      <td>Jowar</td>\n",
              "      <td>42500</td>\n",
              "      <td>31.2394</td>\n",
              "      <td>52.4228</td>\n",
              "      <td>37.931</td>\n",
              "      <td>176.327</td>\n",
              "      <td>35.2654</td>\n",
              "      <td>540.9</td>\n",
              "      <td>12.6895</td>\n",
              "      <td>24.037</td>\n",
              "      <td>33500.0</td>\n",
              "    </tr>\n",
              "  </tbody>\n",
              "</table>\n",
              "</div>"
            ],
            "text/plain": [
              "     State       City  Year  Season          Crop   Area  avgTemp  \\\n",
              "0  Gujarat  Ahmedabad  1997  Kharif     Arhar/Tur   2900  31.2394   \n",
              "1  Gujarat  Ahmedabad  1997  Kharif         Bajra  41700  31.2394   \n",
              "2  Gujarat  Ahmedabad  1997  Kharif  Dry chillies    700  31.2394   \n",
              "3  Gujarat  Ahmedabad  1997  Kharif     Groundnut    500  31.2394   \n",
              "4  Gujarat  Ahmedabad  1997  Kharif         Jowar  42500  31.2394   \n",
              "\n",
              "   Cloud Cover  maxTemp  Precipitation  vapPressure  Rainfall  Wet Day Freq  \\\n",
              "0      52.4228   37.931        176.327      35.2654     540.9       12.6895   \n",
              "1      52.4228   37.931        176.327      35.2654     540.9       12.6895   \n",
              "2      52.4228   37.931        176.327      35.2654     540.9       12.6895   \n",
              "3      52.4228   37.931        176.327      35.2654     540.9       12.6895   \n",
              "4      52.4228   37.931        176.327      35.2654     540.9       12.6895   \n",
              "\n",
              "   minTemp  Production  \n",
              "0   24.037      2200.0  \n",
              "1   24.037     43700.0  \n",
              "2   24.037       700.0  \n",
              "3   24.037       600.0  \n",
              "4   24.037     33500.0  "
            ]
          },
          "metadata": {
            "tags": []
          },
          "execution_count": 5
        }
      ]
    },
    {
      "cell_type": "code",
      "metadata": {
        "id": "uXGQ7ftGKY2S",
        "colab_type": "code",
        "outputId": "81a508e3-08b6-470e-b556-9c8c736fdcca",
        "colab": {}
      },
      "source": [
        "#Show how much null value are there in each Column\n",
        "df.isnull().sum()"
      ],
      "execution_count": 0,
      "outputs": [
        {
          "output_type": "execute_result",
          "data": {
            "text/plain": [
              "State              0\n",
              "City               0\n",
              "Year               0\n",
              "Season             0\n",
              "Crop               0\n",
              "Area               0\n",
              "avgTemp            2\n",
              "Cloud Cover        7\n",
              "maxTemp            7\n",
              "Precipitation      7\n",
              "vapPressure        7\n",
              "Rainfall           0\n",
              "Wet Day Freq       7\n",
              "minTemp          228\n",
              "Production        69\n",
              "dtype: int64"
            ]
          },
          "metadata": {
            "tags": []
          },
          "execution_count": 6
        }
      ]
    },
    {
      "cell_type": "code",
      "metadata": {
        "scrolled": true,
        "id": "rhzjgQkqKY2Z",
        "colab_type": "code",
        "colab": {}
      },
      "source": [
        "#Fill all Null value with 0\n",
        "df['Production'].fillna(df['Production'].median(), inplace=True)"
      ],
      "execution_count": 0,
      "outputs": []
    },
    {
      "cell_type": "code",
      "metadata": {
        "id": "QPzX5Rd2KY2e",
        "colab_type": "code",
        "colab": {}
      },
      "source": [
        "#Fill all Null value of Minimum Temprature with median of it\n",
        "df.fillna(df.mean(), inplace=True)"
      ],
      "execution_count": 0,
      "outputs": []
    },
    {
      "cell_type": "code",
      "metadata": {
        "id": "5UwIVXpMKY2i",
        "colab_type": "code",
        "outputId": "bd34df24-4168-4e17-83be-87cc3065c723",
        "colab": {}
      },
      "source": [
        "df.isnull().sum()"
      ],
      "execution_count": 0,
      "outputs": [
        {
          "output_type": "execute_result",
          "data": {
            "text/plain": [
              "State            0\n",
              "City             0\n",
              "Year             0\n",
              "Season           0\n",
              "Crop             0\n",
              "Area             0\n",
              "avgTemp          0\n",
              "Cloud Cover      0\n",
              "maxTemp          0\n",
              "Precipitation    0\n",
              "vapPressure      0\n",
              "Rainfall         0\n",
              "Wet Day Freq     0\n",
              "minTemp          0\n",
              "Production       0\n",
              "dtype: int64"
            ]
          },
          "metadata": {
            "tags": []
          },
          "execution_count": 9
        }
      ]
    },
    {
      "cell_type": "code",
      "metadata": {
        "id": "a0xC7BtLKY2n",
        "colab_type": "code",
        "colab": {}
      },
      "source": [
        "#Convert Production to unit production Ex. Production per 1 Hectre\n",
        "df['Production'] = df['Production'] / df['Area']"
      ],
      "execution_count": 0,
      "outputs": []
    },
    {
      "cell_type": "code",
      "metadata": {
        "id": "QCZTHs_XKY2s",
        "colab_type": "code",
        "outputId": "4fb13b5d-22d1-440a-911d-3f0ae7a20656",
        "colab": {}
      },
      "source": [
        "df['Crop'].unique()"
      ],
      "execution_count": 0,
      "outputs": [
        {
          "output_type": "execute_result",
          "data": {
            "text/plain": [
              "array(['Arhar/Tur', 'Bajra', 'Dry chillies', 'Groundnut', 'Jowar',\n",
              "       'Moong(Green Gram)', 'Moth', 'Other Kharif pulses', 'Urad', 'Gram',\n",
              "       'Rapeseed &Mustard', 'Wheat', 'Banana', 'Castor seed',\n",
              "       'Cotton(lint)', 'Maize', 'Potato', 'Pulses total', 'Rice',\n",
              "       'Sesamum', 'Sugarcane', 'Tobacco', 'Other Cereals & Millets',\n",
              "       'Small millets', 'Oilseeds total', 'Onion', 'Guar seed',\n",
              "       'other oilseeds', 'Garlic', 'Other  Rabi pulses', 'Ragi',\n",
              "       'Soyabean'], dtype=object)"
            ]
          },
          "metadata": {
            "tags": []
          },
          "execution_count": 11
        }
      ]
    },
    {
      "cell_type": "code",
      "metadata": {
        "id": "sUx2wVVkKY2x",
        "colab_type": "code",
        "colab": {}
      },
      "source": [
        "#Remove state Column because it is same for whole dataset\n",
        "df = df.drop('State',axis =1)"
      ],
      "execution_count": 0,
      "outputs": []
    },
    {
      "cell_type": "code",
      "metadata": {
        "id": "y6xtE06JKY23",
        "colab_type": "code",
        "colab": {}
      },
      "source": [
        "#We take Production as a unit area.So no need of area column\n",
        "df = df.drop('Area',axis =1)"
      ],
      "execution_count": 0,
      "outputs": []
    },
    {
      "cell_type": "code",
      "metadata": {
        "id": "bhr85fDmKY28",
        "colab_type": "code",
        "outputId": "a1af89bc-ce57-4137-816e-96e9fb0ce845",
        "colab": {}
      },
      "source": [
        "df.head(10)"
      ],
      "execution_count": 0,
      "outputs": [
        {
          "output_type": "execute_result",
          "data": {
            "text/html": [
              "<div>\n",
              "<style scoped>\n",
              "    .dataframe tbody tr th:only-of-type {\n",
              "        vertical-align: middle;\n",
              "    }\n",
              "\n",
              "    .dataframe tbody tr th {\n",
              "        vertical-align: top;\n",
              "    }\n",
              "\n",
              "    .dataframe thead th {\n",
              "        text-align: right;\n",
              "    }\n",
              "</style>\n",
              "<table border=\"1\" class=\"dataframe\">\n",
              "  <thead>\n",
              "    <tr style=\"text-align: right;\">\n",
              "      <th></th>\n",
              "      <th>City</th>\n",
              "      <th>Year</th>\n",
              "      <th>Season</th>\n",
              "      <th>Crop</th>\n",
              "      <th>avgTemp</th>\n",
              "      <th>Cloud Cover</th>\n",
              "      <th>maxTemp</th>\n",
              "      <th>Precipitation</th>\n",
              "      <th>vapPressure</th>\n",
              "      <th>Rainfall</th>\n",
              "      <th>Wet Day Freq</th>\n",
              "      <th>minTemp</th>\n",
              "      <th>Production</th>\n",
              "    </tr>\n",
              "  </thead>\n",
              "  <tbody>\n",
              "    <tr>\n",
              "      <td>0</td>\n",
              "      <td>Ahmedabad</td>\n",
              "      <td>1997</td>\n",
              "      <td>Kharif</td>\n",
              "      <td>Arhar/Tur</td>\n",
              "      <td>31.2394</td>\n",
              "      <td>52.42280</td>\n",
              "      <td>37.931</td>\n",
              "      <td>176.327</td>\n",
              "      <td>35.2654</td>\n",
              "      <td>540.9</td>\n",
              "      <td>12.6895</td>\n",
              "      <td>24.037</td>\n",
              "      <td>0.758621</td>\n",
              "    </tr>\n",
              "    <tr>\n",
              "      <td>1</td>\n",
              "      <td>Ahmedabad</td>\n",
              "      <td>1997</td>\n",
              "      <td>Kharif</td>\n",
              "      <td>Bajra</td>\n",
              "      <td>31.2394</td>\n",
              "      <td>52.42280</td>\n",
              "      <td>37.931</td>\n",
              "      <td>176.327</td>\n",
              "      <td>35.2654</td>\n",
              "      <td>540.9</td>\n",
              "      <td>12.6895</td>\n",
              "      <td>24.037</td>\n",
              "      <td>1.047962</td>\n",
              "    </tr>\n",
              "    <tr>\n",
              "      <td>2</td>\n",
              "      <td>Ahmedabad</td>\n",
              "      <td>1997</td>\n",
              "      <td>Kharif</td>\n",
              "      <td>Dry chillies</td>\n",
              "      <td>31.2394</td>\n",
              "      <td>52.42280</td>\n",
              "      <td>37.931</td>\n",
              "      <td>176.327</td>\n",
              "      <td>35.2654</td>\n",
              "      <td>540.9</td>\n",
              "      <td>12.6895</td>\n",
              "      <td>24.037</td>\n",
              "      <td>1.000000</td>\n",
              "    </tr>\n",
              "    <tr>\n",
              "      <td>3</td>\n",
              "      <td>Ahmedabad</td>\n",
              "      <td>1997</td>\n",
              "      <td>Kharif</td>\n",
              "      <td>Groundnut</td>\n",
              "      <td>31.2394</td>\n",
              "      <td>52.42280</td>\n",
              "      <td>37.931</td>\n",
              "      <td>176.327</td>\n",
              "      <td>35.2654</td>\n",
              "      <td>540.9</td>\n",
              "      <td>12.6895</td>\n",
              "      <td>24.037</td>\n",
              "      <td>1.200000</td>\n",
              "    </tr>\n",
              "    <tr>\n",
              "      <td>4</td>\n",
              "      <td>Ahmedabad</td>\n",
              "      <td>1997</td>\n",
              "      <td>Kharif</td>\n",
              "      <td>Jowar</td>\n",
              "      <td>31.2394</td>\n",
              "      <td>52.42280</td>\n",
              "      <td>37.931</td>\n",
              "      <td>176.327</td>\n",
              "      <td>35.2654</td>\n",
              "      <td>540.9</td>\n",
              "      <td>12.6895</td>\n",
              "      <td>24.037</td>\n",
              "      <td>0.788235</td>\n",
              "    </tr>\n",
              "    <tr>\n",
              "      <td>5</td>\n",
              "      <td>Ahmedabad</td>\n",
              "      <td>1997</td>\n",
              "      <td>Kharif</td>\n",
              "      <td>Moong(Green Gram)</td>\n",
              "      <td>31.2394</td>\n",
              "      <td>52.42280</td>\n",
              "      <td>37.931</td>\n",
              "      <td>176.327</td>\n",
              "      <td>35.2654</td>\n",
              "      <td>540.9</td>\n",
              "      <td>12.6895</td>\n",
              "      <td>24.037</td>\n",
              "      <td>0.521739</td>\n",
              "    </tr>\n",
              "    <tr>\n",
              "      <td>6</td>\n",
              "      <td>Ahmedabad</td>\n",
              "      <td>1997</td>\n",
              "      <td>Kharif</td>\n",
              "      <td>Moth</td>\n",
              "      <td>31.2394</td>\n",
              "      <td>52.42280</td>\n",
              "      <td>37.931</td>\n",
              "      <td>176.327</td>\n",
              "      <td>35.2654</td>\n",
              "      <td>540.9</td>\n",
              "      <td>12.6895</td>\n",
              "      <td>24.037</td>\n",
              "      <td>1.000000</td>\n",
              "    </tr>\n",
              "    <tr>\n",
              "      <td>7</td>\n",
              "      <td>Ahmedabad</td>\n",
              "      <td>1997</td>\n",
              "      <td>Kharif</td>\n",
              "      <td>Other Kharif pulses</td>\n",
              "      <td>31.2394</td>\n",
              "      <td>52.42280</td>\n",
              "      <td>37.931</td>\n",
              "      <td>176.327</td>\n",
              "      <td>35.2654</td>\n",
              "      <td>540.9</td>\n",
              "      <td>12.6895</td>\n",
              "      <td>24.037</td>\n",
              "      <td>0.500000</td>\n",
              "    </tr>\n",
              "    <tr>\n",
              "      <td>8</td>\n",
              "      <td>Ahmedabad</td>\n",
              "      <td>1997</td>\n",
              "      <td>Kharif</td>\n",
              "      <td>Urad</td>\n",
              "      <td>31.2394</td>\n",
              "      <td>52.42280</td>\n",
              "      <td>37.931</td>\n",
              "      <td>176.327</td>\n",
              "      <td>35.2654</td>\n",
              "      <td>540.9</td>\n",
              "      <td>12.6895</td>\n",
              "      <td>24.037</td>\n",
              "      <td>0.846154</td>\n",
              "    </tr>\n",
              "    <tr>\n",
              "      <td>9</td>\n",
              "      <td>Ahmedabad</td>\n",
              "      <td>1997</td>\n",
              "      <td>Rabi</td>\n",
              "      <td>Gram</td>\n",
              "      <td>23.3960</td>\n",
              "      <td>9.82025</td>\n",
              "      <td>34.858</td>\n",
              "      <td>12.808</td>\n",
              "      <td>3.2020</td>\n",
              "      <td>18.6</td>\n",
              "      <td>2.8152</td>\n",
              "      <td>12.348</td>\n",
              "      <td>0.500000</td>\n",
              "    </tr>\n",
              "  </tbody>\n",
              "</table>\n",
              "</div>"
            ],
            "text/plain": [
              "        City  Year  Season                 Crop  avgTemp  Cloud Cover  \\\n",
              "0  Ahmedabad  1997  Kharif            Arhar/Tur  31.2394     52.42280   \n",
              "1  Ahmedabad  1997  Kharif                Bajra  31.2394     52.42280   \n",
              "2  Ahmedabad  1997  Kharif         Dry chillies  31.2394     52.42280   \n",
              "3  Ahmedabad  1997  Kharif            Groundnut  31.2394     52.42280   \n",
              "4  Ahmedabad  1997  Kharif                Jowar  31.2394     52.42280   \n",
              "5  Ahmedabad  1997  Kharif    Moong(Green Gram)  31.2394     52.42280   \n",
              "6  Ahmedabad  1997  Kharif                 Moth  31.2394     52.42280   \n",
              "7  Ahmedabad  1997  Kharif  Other Kharif pulses  31.2394     52.42280   \n",
              "8  Ahmedabad  1997  Kharif                 Urad  31.2394     52.42280   \n",
              "9  Ahmedabad  1997    Rabi                 Gram  23.3960      9.82025   \n",
              "\n",
              "   maxTemp  Precipitation  vapPressure  Rainfall  Wet Day Freq  minTemp  \\\n",
              "0   37.931        176.327      35.2654     540.9       12.6895   24.037   \n",
              "1   37.931        176.327      35.2654     540.9       12.6895   24.037   \n",
              "2   37.931        176.327      35.2654     540.9       12.6895   24.037   \n",
              "3   37.931        176.327      35.2654     540.9       12.6895   24.037   \n",
              "4   37.931        176.327      35.2654     540.9       12.6895   24.037   \n",
              "5   37.931        176.327      35.2654     540.9       12.6895   24.037   \n",
              "6   37.931        176.327      35.2654     540.9       12.6895   24.037   \n",
              "7   37.931        176.327      35.2654     540.9       12.6895   24.037   \n",
              "8   37.931        176.327      35.2654     540.9       12.6895   24.037   \n",
              "9   34.858         12.808       3.2020      18.6        2.8152   12.348   \n",
              "\n",
              "   Production  \n",
              "0    0.758621  \n",
              "1    1.047962  \n",
              "2    1.000000  \n",
              "3    1.200000  \n",
              "4    0.788235  \n",
              "5    0.521739  \n",
              "6    1.000000  \n",
              "7    0.500000  \n",
              "8    0.846154  \n",
              "9    0.500000  "
            ]
          },
          "metadata": {
            "tags": []
          },
          "execution_count": 14
        }
      ]
    },
    {
      "cell_type": "code",
      "metadata": {
        "id": "PJmwWK2jKY3B",
        "colab_type": "code",
        "outputId": "ea45d5a3-9135-40ed-ccdb-07c189c7e63b",
        "colab": {}
      },
      "source": [
        "#Round-off all values by .2\n",
        "df = df.round(2)\n",
        "df.head(5)"
      ],
      "execution_count": 0,
      "outputs": [
        {
          "output_type": "execute_result",
          "data": {
            "text/html": [
              "<div>\n",
              "<style scoped>\n",
              "    .dataframe tbody tr th:only-of-type {\n",
              "        vertical-align: middle;\n",
              "    }\n",
              "\n",
              "    .dataframe tbody tr th {\n",
              "        vertical-align: top;\n",
              "    }\n",
              "\n",
              "    .dataframe thead th {\n",
              "        text-align: right;\n",
              "    }\n",
              "</style>\n",
              "<table border=\"1\" class=\"dataframe\">\n",
              "  <thead>\n",
              "    <tr style=\"text-align: right;\">\n",
              "      <th></th>\n",
              "      <th>City</th>\n",
              "      <th>Year</th>\n",
              "      <th>Season</th>\n",
              "      <th>Crop</th>\n",
              "      <th>avgTemp</th>\n",
              "      <th>Cloud Cover</th>\n",
              "      <th>maxTemp</th>\n",
              "      <th>Precipitation</th>\n",
              "      <th>vapPressure</th>\n",
              "      <th>Rainfall</th>\n",
              "      <th>Wet Day Freq</th>\n",
              "      <th>minTemp</th>\n",
              "      <th>Production</th>\n",
              "    </tr>\n",
              "  </thead>\n",
              "  <tbody>\n",
              "    <tr>\n",
              "      <td>0</td>\n",
              "      <td>Ahmedabad</td>\n",
              "      <td>1997</td>\n",
              "      <td>Kharif</td>\n",
              "      <td>Arhar/Tur</td>\n",
              "      <td>31.24</td>\n",
              "      <td>52.42</td>\n",
              "      <td>37.93</td>\n",
              "      <td>176.33</td>\n",
              "      <td>35.27</td>\n",
              "      <td>540.9</td>\n",
              "      <td>12.69</td>\n",
              "      <td>24.04</td>\n",
              "      <td>0.76</td>\n",
              "    </tr>\n",
              "    <tr>\n",
              "      <td>1</td>\n",
              "      <td>Ahmedabad</td>\n",
              "      <td>1997</td>\n",
              "      <td>Kharif</td>\n",
              "      <td>Bajra</td>\n",
              "      <td>31.24</td>\n",
              "      <td>52.42</td>\n",
              "      <td>37.93</td>\n",
              "      <td>176.33</td>\n",
              "      <td>35.27</td>\n",
              "      <td>540.9</td>\n",
              "      <td>12.69</td>\n",
              "      <td>24.04</td>\n",
              "      <td>1.05</td>\n",
              "    </tr>\n",
              "    <tr>\n",
              "      <td>2</td>\n",
              "      <td>Ahmedabad</td>\n",
              "      <td>1997</td>\n",
              "      <td>Kharif</td>\n",
              "      <td>Dry chillies</td>\n",
              "      <td>31.24</td>\n",
              "      <td>52.42</td>\n",
              "      <td>37.93</td>\n",
              "      <td>176.33</td>\n",
              "      <td>35.27</td>\n",
              "      <td>540.9</td>\n",
              "      <td>12.69</td>\n",
              "      <td>24.04</td>\n",
              "      <td>1.00</td>\n",
              "    </tr>\n",
              "    <tr>\n",
              "      <td>3</td>\n",
              "      <td>Ahmedabad</td>\n",
              "      <td>1997</td>\n",
              "      <td>Kharif</td>\n",
              "      <td>Groundnut</td>\n",
              "      <td>31.24</td>\n",
              "      <td>52.42</td>\n",
              "      <td>37.93</td>\n",
              "      <td>176.33</td>\n",
              "      <td>35.27</td>\n",
              "      <td>540.9</td>\n",
              "      <td>12.69</td>\n",
              "      <td>24.04</td>\n",
              "      <td>1.20</td>\n",
              "    </tr>\n",
              "    <tr>\n",
              "      <td>4</td>\n",
              "      <td>Ahmedabad</td>\n",
              "      <td>1997</td>\n",
              "      <td>Kharif</td>\n",
              "      <td>Jowar</td>\n",
              "      <td>31.24</td>\n",
              "      <td>52.42</td>\n",
              "      <td>37.93</td>\n",
              "      <td>176.33</td>\n",
              "      <td>35.27</td>\n",
              "      <td>540.9</td>\n",
              "      <td>12.69</td>\n",
              "      <td>24.04</td>\n",
              "      <td>0.79</td>\n",
              "    </tr>\n",
              "  </tbody>\n",
              "</table>\n",
              "</div>"
            ],
            "text/plain": [
              "        City  Year  Season          Crop  avgTemp  Cloud Cover  maxTemp  \\\n",
              "0  Ahmedabad  1997  Kharif     Arhar/Tur    31.24        52.42    37.93   \n",
              "1  Ahmedabad  1997  Kharif         Bajra    31.24        52.42    37.93   \n",
              "2  Ahmedabad  1997  Kharif  Dry chillies    31.24        52.42    37.93   \n",
              "3  Ahmedabad  1997  Kharif     Groundnut    31.24        52.42    37.93   \n",
              "4  Ahmedabad  1997  Kharif         Jowar    31.24        52.42    37.93   \n",
              "\n",
              "   Precipitation  vapPressure  Rainfall  Wet Day Freq  minTemp  Production  \n",
              "0         176.33        35.27     540.9         12.69    24.04        0.76  \n",
              "1         176.33        35.27     540.9         12.69    24.04        1.05  \n",
              "2         176.33        35.27     540.9         12.69    24.04        1.00  \n",
              "3         176.33        35.27     540.9         12.69    24.04        1.20  \n",
              "4         176.33        35.27     540.9         12.69    24.04        0.79  "
            ]
          },
          "metadata": {
            "tags": []
          },
          "execution_count": 15
        }
      ]
    },
    {
      "cell_type": "code",
      "metadata": {
        "id": "4jfMZ79nKY3G",
        "colab_type": "code",
        "colab": {}
      },
      "source": [
        "#Covert all Rainfall Variable into Float from String\n",
        "df['Rainfall'] = df['Rainfall'].astype(float)"
      ],
      "execution_count": 0,
      "outputs": []
    },
    {
      "cell_type": "code",
      "metadata": {
        "id": "1EyMjoI2KY3M",
        "colab_type": "code",
        "outputId": "1f217573-afdf-45cb-b157-d09efd13d9d2",
        "colab": {}
      },
      "source": [
        "#Shape of Dataset\n",
        "df.shape"
      ],
      "execution_count": 0,
      "outputs": [
        {
          "output_type": "execute_result",
          "data": {
            "text/plain": [
              "(8436, 13)"
            ]
          },
          "metadata": {
            "tags": []
          },
          "execution_count": 17
        }
      ]
    },
    {
      "cell_type": "code",
      "metadata": {
        "id": "Uz3hvtutKY3Q",
        "colab_type": "code",
        "colab": {}
      },
      "source": [
        "df['Production'].replace(0,0.01,inplace=True)"
      ],
      "execution_count": 0,
      "outputs": []
    },
    {
      "cell_type": "code",
      "metadata": {
        "id": "RotbvjZ6KY3U",
        "colab_type": "code",
        "outputId": "89827fdc-fac2-4ce6-c690-527b254def6a",
        "colab": {}
      },
      "source": [
        "(df['Production'] == 0).sum()"
      ],
      "execution_count": 0,
      "outputs": [
        {
          "output_type": "execute_result",
          "data": {
            "text/plain": [
              "0"
            ]
          },
          "metadata": {
            "tags": []
          },
          "execution_count": 19
        }
      ]
    },
    {
      "cell_type": "code",
      "metadata": {
        "id": "KKrtHGUfKY3X",
        "colab_type": "code",
        "outputId": "c19dcbf5-cf92-4145-99a4-3d1483f59537",
        "colab": {}
      },
      "source": [
        "df.describe()"
      ],
      "execution_count": 0,
      "outputs": [
        {
          "output_type": "execute_result",
          "data": {
            "text/html": [
              "<div>\n",
              "<style scoped>\n",
              "    .dataframe tbody tr th:only-of-type {\n",
              "        vertical-align: middle;\n",
              "    }\n",
              "\n",
              "    .dataframe tbody tr th {\n",
              "        vertical-align: top;\n",
              "    }\n",
              "\n",
              "    .dataframe thead th {\n",
              "        text-align: right;\n",
              "    }\n",
              "</style>\n",
              "<table border=\"1\" class=\"dataframe\">\n",
              "  <thead>\n",
              "    <tr style=\"text-align: right;\">\n",
              "      <th></th>\n",
              "      <th>Year</th>\n",
              "      <th>avgTemp</th>\n",
              "      <th>Cloud Cover</th>\n",
              "      <th>maxTemp</th>\n",
              "      <th>Precipitation</th>\n",
              "      <th>vapPressure</th>\n",
              "      <th>Rainfall</th>\n",
              "      <th>Wet Day Freq</th>\n",
              "      <th>minTemp</th>\n",
              "      <th>Production</th>\n",
              "    </tr>\n",
              "  </thead>\n",
              "  <tbody>\n",
              "    <tr>\n",
              "      <td>count</td>\n",
              "      <td>8436.000000</td>\n",
              "      <td>8436.000000</td>\n",
              "      <td>8436.000000</td>\n",
              "      <td>8436.000000</td>\n",
              "      <td>8436.000000</td>\n",
              "      <td>8436.000000</td>\n",
              "      <td>8436.000000</td>\n",
              "      <td>8436.000000</td>\n",
              "      <td>8436.000000</td>\n",
              "      <td>8436.000000</td>\n",
              "    </tr>\n",
              "    <tr>\n",
              "      <td>mean</td>\n",
              "      <td>2005.159673</td>\n",
              "      <td>26.456321</td>\n",
              "      <td>35.305011</td>\n",
              "      <td>35.081976</td>\n",
              "      <td>518.041106</td>\n",
              "      <td>23.634073</td>\n",
              "      <td>444.719363</td>\n",
              "      <td>21.776161</td>\n",
              "      <td>17.270068</td>\n",
              "      <td>5.869533</td>\n",
              "    </tr>\n",
              "    <tr>\n",
              "      <td>std</td>\n",
              "      <td>4.586311</td>\n",
              "      <td>3.332672</td>\n",
              "      <td>16.711387</td>\n",
              "      <td>4.146466</td>\n",
              "      <td>430.048550</td>\n",
              "      <td>15.937587</td>\n",
              "      <td>392.677590</td>\n",
              "      <td>16.024391</td>\n",
              "      <td>4.429441</td>\n",
              "      <td>15.071495</td>\n",
              "    </tr>\n",
              "    <tr>\n",
              "      <td>min</td>\n",
              "      <td>1997.000000</td>\n",
              "      <td>17.330000</td>\n",
              "      <td>6.980000</td>\n",
              "      <td>25.610000</td>\n",
              "      <td>0.000000</td>\n",
              "      <td>0.070000</td>\n",
              "      <td>5.120000</td>\n",
              "      <td>0.000000</td>\n",
              "      <td>8.010000</td>\n",
              "      <td>0.010000</td>\n",
              "    </tr>\n",
              "    <tr>\n",
              "      <td>25%</td>\n",
              "      <td>2001.000000</td>\n",
              "      <td>23.210000</td>\n",
              "      <td>19.620000</td>\n",
              "      <td>32.520000</td>\n",
              "      <td>16.520000</td>\n",
              "      <td>18.150000</td>\n",
              "      <td>120.320000</td>\n",
              "      <td>2.130000</td>\n",
              "      <td>12.800000</td>\n",
              "      <td>0.660000</td>\n",
              "    </tr>\n",
              "    <tr>\n",
              "      <td>50%</td>\n",
              "      <td>2005.000000</td>\n",
              "      <td>27.520000</td>\n",
              "      <td>35.350000</td>\n",
              "      <td>35.450000</td>\n",
              "      <td>558.410000</td>\n",
              "      <td>22.930000</td>\n",
              "      <td>410.300000</td>\n",
              "      <td>23.900000</td>\n",
              "      <td>17.980000</td>\n",
              "      <td>1.150000</td>\n",
              "    </tr>\n",
              "    <tr>\n",
              "      <td>75%</td>\n",
              "      <td>2009.000000</td>\n",
              "      <td>29.252500</td>\n",
              "      <td>50.960000</td>\n",
              "      <td>38.410000</td>\n",
              "      <td>824.230000</td>\n",
              "      <td>26.262500</td>\n",
              "      <td>673.700000</td>\n",
              "      <td>33.870000</td>\n",
              "      <td>21.430000</td>\n",
              "      <td>2.200000</td>\n",
              "    </tr>\n",
              "    <tr>\n",
              "      <td>max</td>\n",
              "      <td>2012.000000</td>\n",
              "      <td>32.020000</td>\n",
              "      <td>64.200000</td>\n",
              "      <td>42.550000</td>\n",
              "      <td>2260.640000</td>\n",
              "      <td>199.470000</td>\n",
              "      <td>1870.260000</td>\n",
              "      <td>65.980000</td>\n",
              "      <td>24.750000</td>\n",
              "      <td>235.000000</td>\n",
              "    </tr>\n",
              "  </tbody>\n",
              "</table>\n",
              "</div>"
            ],
            "text/plain": [
              "              Year      avgTemp  Cloud Cover      maxTemp  Precipitation  \\\n",
              "count  8436.000000  8436.000000  8436.000000  8436.000000    8436.000000   \n",
              "mean   2005.159673    26.456321    35.305011    35.081976     518.041106   \n",
              "std       4.586311     3.332672    16.711387     4.146466     430.048550   \n",
              "min    1997.000000    17.330000     6.980000    25.610000       0.000000   \n",
              "25%    2001.000000    23.210000    19.620000    32.520000      16.520000   \n",
              "50%    2005.000000    27.520000    35.350000    35.450000     558.410000   \n",
              "75%    2009.000000    29.252500    50.960000    38.410000     824.230000   \n",
              "max    2012.000000    32.020000    64.200000    42.550000    2260.640000   \n",
              "\n",
              "       vapPressure     Rainfall  Wet Day Freq      minTemp   Production  \n",
              "count  8436.000000  8436.000000   8436.000000  8436.000000  8436.000000  \n",
              "mean     23.634073   444.719363     21.776161    17.270068     5.869533  \n",
              "std      15.937587   392.677590     16.024391     4.429441    15.071495  \n",
              "min       0.070000     5.120000      0.000000     8.010000     0.010000  \n",
              "25%      18.150000   120.320000      2.130000    12.800000     0.660000  \n",
              "50%      22.930000   410.300000     23.900000    17.980000     1.150000  \n",
              "75%      26.262500   673.700000     33.870000    21.430000     2.200000  \n",
              "max     199.470000  1870.260000     65.980000    24.750000   235.000000  "
            ]
          },
          "metadata": {
            "tags": []
          },
          "execution_count": 20
        }
      ]
    },
    {
      "cell_type": "code",
      "metadata": {
        "id": "vGLL25BZKY3m",
        "colab_type": "code",
        "outputId": "12d14193-9162-4b8e-bf38-a29329537f0c",
        "colab": {}
      },
      "source": [
        "df.dtypes"
      ],
      "execution_count": 0,
      "outputs": [
        {
          "output_type": "execute_result",
          "data": {
            "text/plain": [
              "City              object\n",
              "Year               int64\n",
              "Season            object\n",
              "Crop              object\n",
              "avgTemp          float64\n",
              "Cloud Cover      float64\n",
              "maxTemp          float64\n",
              "Precipitation    float64\n",
              "vapPressure      float64\n",
              "Rainfall         float64\n",
              "Wet Day Freq     float64\n",
              "minTemp          float64\n",
              "Production       float64\n",
              "dtype: object"
            ]
          },
          "metadata": {
            "tags": []
          },
          "execution_count": 21
        }
      ]
    },
    {
      "cell_type": "code",
      "metadata": {
        "id": "ucLrdXmtKY3q",
        "colab_type": "code",
        "outputId": "2411f0e6-8255-41d3-e8f6-1230834c3cdb",
        "colab": {}
      },
      "source": [
        "df.columns"
      ],
      "execution_count": 0,
      "outputs": [
        {
          "output_type": "execute_result",
          "data": {
            "text/plain": [
              "Index(['City', 'Year', 'Season', 'Crop', 'avgTemp', 'Cloud Cover', 'maxTemp',\n",
              "       'Precipitation', 'vapPressure', 'Rainfall', 'Wet Day Freq', 'minTemp',\n",
              "       'Production'],\n",
              "      dtype='object')"
            ]
          },
          "metadata": {
            "tags": []
          },
          "execution_count": 22
        }
      ]
    },
    {
      "cell_type": "code",
      "metadata": {
        "id": "CFRTPXzUKY3w",
        "colab_type": "code",
        "outputId": "831a0311-22da-46a0-b5bf-d35d85e8245e",
        "colab": {}
      },
      "source": [
        "df.head()"
      ],
      "execution_count": 0,
      "outputs": [
        {
          "output_type": "execute_result",
          "data": {
            "text/html": [
              "<div>\n",
              "<style scoped>\n",
              "    .dataframe tbody tr th:only-of-type {\n",
              "        vertical-align: middle;\n",
              "    }\n",
              "\n",
              "    .dataframe tbody tr th {\n",
              "        vertical-align: top;\n",
              "    }\n",
              "\n",
              "    .dataframe thead th {\n",
              "        text-align: right;\n",
              "    }\n",
              "</style>\n",
              "<table border=\"1\" class=\"dataframe\">\n",
              "  <thead>\n",
              "    <tr style=\"text-align: right;\">\n",
              "      <th></th>\n",
              "      <th>City</th>\n",
              "      <th>Year</th>\n",
              "      <th>Season</th>\n",
              "      <th>Crop</th>\n",
              "      <th>avgTemp</th>\n",
              "      <th>Cloud Cover</th>\n",
              "      <th>maxTemp</th>\n",
              "      <th>Precipitation</th>\n",
              "      <th>vapPressure</th>\n",
              "      <th>Rainfall</th>\n",
              "      <th>Wet Day Freq</th>\n",
              "      <th>minTemp</th>\n",
              "      <th>Production</th>\n",
              "    </tr>\n",
              "  </thead>\n",
              "  <tbody>\n",
              "    <tr>\n",
              "      <td>0</td>\n",
              "      <td>Ahmedabad</td>\n",
              "      <td>1997</td>\n",
              "      <td>Kharif</td>\n",
              "      <td>Arhar/Tur</td>\n",
              "      <td>31.24</td>\n",
              "      <td>52.42</td>\n",
              "      <td>37.93</td>\n",
              "      <td>176.33</td>\n",
              "      <td>35.27</td>\n",
              "      <td>540.9</td>\n",
              "      <td>12.69</td>\n",
              "      <td>24.04</td>\n",
              "      <td>0.76</td>\n",
              "    </tr>\n",
              "    <tr>\n",
              "      <td>1</td>\n",
              "      <td>Ahmedabad</td>\n",
              "      <td>1997</td>\n",
              "      <td>Kharif</td>\n",
              "      <td>Bajra</td>\n",
              "      <td>31.24</td>\n",
              "      <td>52.42</td>\n",
              "      <td>37.93</td>\n",
              "      <td>176.33</td>\n",
              "      <td>35.27</td>\n",
              "      <td>540.9</td>\n",
              "      <td>12.69</td>\n",
              "      <td>24.04</td>\n",
              "      <td>1.05</td>\n",
              "    </tr>\n",
              "    <tr>\n",
              "      <td>2</td>\n",
              "      <td>Ahmedabad</td>\n",
              "      <td>1997</td>\n",
              "      <td>Kharif</td>\n",
              "      <td>Dry chillies</td>\n",
              "      <td>31.24</td>\n",
              "      <td>52.42</td>\n",
              "      <td>37.93</td>\n",
              "      <td>176.33</td>\n",
              "      <td>35.27</td>\n",
              "      <td>540.9</td>\n",
              "      <td>12.69</td>\n",
              "      <td>24.04</td>\n",
              "      <td>1.00</td>\n",
              "    </tr>\n",
              "    <tr>\n",
              "      <td>3</td>\n",
              "      <td>Ahmedabad</td>\n",
              "      <td>1997</td>\n",
              "      <td>Kharif</td>\n",
              "      <td>Groundnut</td>\n",
              "      <td>31.24</td>\n",
              "      <td>52.42</td>\n",
              "      <td>37.93</td>\n",
              "      <td>176.33</td>\n",
              "      <td>35.27</td>\n",
              "      <td>540.9</td>\n",
              "      <td>12.69</td>\n",
              "      <td>24.04</td>\n",
              "      <td>1.20</td>\n",
              "    </tr>\n",
              "    <tr>\n",
              "      <td>4</td>\n",
              "      <td>Ahmedabad</td>\n",
              "      <td>1997</td>\n",
              "      <td>Kharif</td>\n",
              "      <td>Jowar</td>\n",
              "      <td>31.24</td>\n",
              "      <td>52.42</td>\n",
              "      <td>37.93</td>\n",
              "      <td>176.33</td>\n",
              "      <td>35.27</td>\n",
              "      <td>540.9</td>\n",
              "      <td>12.69</td>\n",
              "      <td>24.04</td>\n",
              "      <td>0.79</td>\n",
              "    </tr>\n",
              "  </tbody>\n",
              "</table>\n",
              "</div>"
            ],
            "text/plain": [
              "        City  Year  Season          Crop  avgTemp  Cloud Cover  maxTemp  \\\n",
              "0  Ahmedabad  1997  Kharif     Arhar/Tur    31.24        52.42    37.93   \n",
              "1  Ahmedabad  1997  Kharif         Bajra    31.24        52.42    37.93   \n",
              "2  Ahmedabad  1997  Kharif  Dry chillies    31.24        52.42    37.93   \n",
              "3  Ahmedabad  1997  Kharif     Groundnut    31.24        52.42    37.93   \n",
              "4  Ahmedabad  1997  Kharif         Jowar    31.24        52.42    37.93   \n",
              "\n",
              "   Precipitation  vapPressure  Rainfall  Wet Day Freq  minTemp  Production  \n",
              "0         176.33        35.27     540.9         12.69    24.04        0.76  \n",
              "1         176.33        35.27     540.9         12.69    24.04        1.05  \n",
              "2         176.33        35.27     540.9         12.69    24.04        1.00  \n",
              "3         176.33        35.27     540.9         12.69    24.04        1.20  \n",
              "4         176.33        35.27     540.9         12.69    24.04        0.79  "
            ]
          },
          "metadata": {
            "tags": []
          },
          "execution_count": 23
        }
      ]
    },
    {
      "cell_type": "code",
      "metadata": {
        "id": "mpYOTeMcKY31",
        "colab_type": "code",
        "outputId": "46f6341b-0263-4388-ba2a-73ebd718438e",
        "colab": {}
      },
      "source": [
        "X = df.select_dtypes(include=[object])\n",
        "X.head(10)"
      ],
      "execution_count": 0,
      "outputs": [
        {
          "output_type": "execute_result",
          "data": {
            "text/html": [
              "<div>\n",
              "<style scoped>\n",
              "    .dataframe tbody tr th:only-of-type {\n",
              "        vertical-align: middle;\n",
              "    }\n",
              "\n",
              "    .dataframe tbody tr th {\n",
              "        vertical-align: top;\n",
              "    }\n",
              "\n",
              "    .dataframe thead th {\n",
              "        text-align: right;\n",
              "    }\n",
              "</style>\n",
              "<table border=\"1\" class=\"dataframe\">\n",
              "  <thead>\n",
              "    <tr style=\"text-align: right;\">\n",
              "      <th></th>\n",
              "      <th>City</th>\n",
              "      <th>Season</th>\n",
              "      <th>Crop</th>\n",
              "    </tr>\n",
              "  </thead>\n",
              "  <tbody>\n",
              "    <tr>\n",
              "      <td>0</td>\n",
              "      <td>Ahmedabad</td>\n",
              "      <td>Kharif</td>\n",
              "      <td>Arhar/Tur</td>\n",
              "    </tr>\n",
              "    <tr>\n",
              "      <td>1</td>\n",
              "      <td>Ahmedabad</td>\n",
              "      <td>Kharif</td>\n",
              "      <td>Bajra</td>\n",
              "    </tr>\n",
              "    <tr>\n",
              "      <td>2</td>\n",
              "      <td>Ahmedabad</td>\n",
              "      <td>Kharif</td>\n",
              "      <td>Dry chillies</td>\n",
              "    </tr>\n",
              "    <tr>\n",
              "      <td>3</td>\n",
              "      <td>Ahmedabad</td>\n",
              "      <td>Kharif</td>\n",
              "      <td>Groundnut</td>\n",
              "    </tr>\n",
              "    <tr>\n",
              "      <td>4</td>\n",
              "      <td>Ahmedabad</td>\n",
              "      <td>Kharif</td>\n",
              "      <td>Jowar</td>\n",
              "    </tr>\n",
              "    <tr>\n",
              "      <td>5</td>\n",
              "      <td>Ahmedabad</td>\n",
              "      <td>Kharif</td>\n",
              "      <td>Moong(Green Gram)</td>\n",
              "    </tr>\n",
              "    <tr>\n",
              "      <td>6</td>\n",
              "      <td>Ahmedabad</td>\n",
              "      <td>Kharif</td>\n",
              "      <td>Moth</td>\n",
              "    </tr>\n",
              "    <tr>\n",
              "      <td>7</td>\n",
              "      <td>Ahmedabad</td>\n",
              "      <td>Kharif</td>\n",
              "      <td>Other Kharif pulses</td>\n",
              "    </tr>\n",
              "    <tr>\n",
              "      <td>8</td>\n",
              "      <td>Ahmedabad</td>\n",
              "      <td>Kharif</td>\n",
              "      <td>Urad</td>\n",
              "    </tr>\n",
              "    <tr>\n",
              "      <td>9</td>\n",
              "      <td>Ahmedabad</td>\n",
              "      <td>Rabi</td>\n",
              "      <td>Gram</td>\n",
              "    </tr>\n",
              "  </tbody>\n",
              "</table>\n",
              "</div>"
            ],
            "text/plain": [
              "        City  Season                 Crop\n",
              "0  Ahmedabad  Kharif            Arhar/Tur\n",
              "1  Ahmedabad  Kharif                Bajra\n",
              "2  Ahmedabad  Kharif         Dry chillies\n",
              "3  Ahmedabad  Kharif            Groundnut\n",
              "4  Ahmedabad  Kharif                Jowar\n",
              "5  Ahmedabad  Kharif    Moong(Green Gram)\n",
              "6  Ahmedabad  Kharif                 Moth\n",
              "7  Ahmedabad  Kharif  Other Kharif pulses\n",
              "8  Ahmedabad  Kharif                 Urad\n",
              "9  Ahmedabad    Rabi                 Gram"
            ]
          },
          "metadata": {
            "tags": []
          },
          "execution_count": 24
        }
      ]
    },
    {
      "cell_type": "code",
      "metadata": {
        "id": "2FwY93UIKY34",
        "colab_type": "code",
        "colab": {}
      },
      "source": [
        "# One-hot encode the data using pandas get_dummies\n",
        "df_coded = pd.get_dummies(df)"
      ],
      "execution_count": 0,
      "outputs": []
    },
    {
      "cell_type": "code",
      "metadata": {
        "scrolled": true,
        "id": "OnJSENUhKY39",
        "colab_type": "code",
        "outputId": "2dd06ee8-534e-44e9-94b6-61f57fff79f5",
        "colab": {}
      },
      "source": [
        "df_coded"
      ],
      "execution_count": 0,
      "outputs": [
        {
          "output_type": "execute_result",
          "data": {
            "text/html": [
              "<div>\n",
              "<style scoped>\n",
              "    .dataframe tbody tr th:only-of-type {\n",
              "        vertical-align: middle;\n",
              "    }\n",
              "\n",
              "    .dataframe tbody tr th {\n",
              "        vertical-align: top;\n",
              "    }\n",
              "\n",
              "    .dataframe thead th {\n",
              "        text-align: right;\n",
              "    }\n",
              "</style>\n",
              "<table border=\"1\" class=\"dataframe\">\n",
              "  <thead>\n",
              "    <tr style=\"text-align: right;\">\n",
              "      <th></th>\n",
              "      <th>Year</th>\n",
              "      <th>avgTemp</th>\n",
              "      <th>Cloud Cover</th>\n",
              "      <th>maxTemp</th>\n",
              "      <th>Precipitation</th>\n",
              "      <th>vapPressure</th>\n",
              "      <th>Rainfall</th>\n",
              "      <th>Wet Day Freq</th>\n",
              "      <th>minTemp</th>\n",
              "      <th>Production</th>\n",
              "      <th>...</th>\n",
              "      <th>Crop_Rapeseed &amp;Mustard</th>\n",
              "      <th>Crop_Rice</th>\n",
              "      <th>Crop_Sesamum</th>\n",
              "      <th>Crop_Small millets</th>\n",
              "      <th>Crop_Soyabean</th>\n",
              "      <th>Crop_Sugarcane</th>\n",
              "      <th>Crop_Tobacco</th>\n",
              "      <th>Crop_Urad</th>\n",
              "      <th>Crop_Wheat</th>\n",
              "      <th>Crop_other oilseeds</th>\n",
              "    </tr>\n",
              "  </thead>\n",
              "  <tbody>\n",
              "    <tr>\n",
              "      <td>0</td>\n",
              "      <td>1997</td>\n",
              "      <td>31.24</td>\n",
              "      <td>52.42</td>\n",
              "      <td>37.93</td>\n",
              "      <td>176.33</td>\n",
              "      <td>35.27</td>\n",
              "      <td>540.90</td>\n",
              "      <td>12.69</td>\n",
              "      <td>24.04</td>\n",
              "      <td>0.76</td>\n",
              "      <td>...</td>\n",
              "      <td>0</td>\n",
              "      <td>0</td>\n",
              "      <td>0</td>\n",
              "      <td>0</td>\n",
              "      <td>0</td>\n",
              "      <td>0</td>\n",
              "      <td>0</td>\n",
              "      <td>0</td>\n",
              "      <td>0</td>\n",
              "      <td>0</td>\n",
              "    </tr>\n",
              "    <tr>\n",
              "      <td>1</td>\n",
              "      <td>1997</td>\n",
              "      <td>31.24</td>\n",
              "      <td>52.42</td>\n",
              "      <td>37.93</td>\n",
              "      <td>176.33</td>\n",
              "      <td>35.27</td>\n",
              "      <td>540.90</td>\n",
              "      <td>12.69</td>\n",
              "      <td>24.04</td>\n",
              "      <td>1.05</td>\n",
              "      <td>...</td>\n",
              "      <td>0</td>\n",
              "      <td>0</td>\n",
              "      <td>0</td>\n",
              "      <td>0</td>\n",
              "      <td>0</td>\n",
              "      <td>0</td>\n",
              "      <td>0</td>\n",
              "      <td>0</td>\n",
              "      <td>0</td>\n",
              "      <td>0</td>\n",
              "    </tr>\n",
              "    <tr>\n",
              "      <td>2</td>\n",
              "      <td>1997</td>\n",
              "      <td>31.24</td>\n",
              "      <td>52.42</td>\n",
              "      <td>37.93</td>\n",
              "      <td>176.33</td>\n",
              "      <td>35.27</td>\n",
              "      <td>540.90</td>\n",
              "      <td>12.69</td>\n",
              "      <td>24.04</td>\n",
              "      <td>1.00</td>\n",
              "      <td>...</td>\n",
              "      <td>0</td>\n",
              "      <td>0</td>\n",
              "      <td>0</td>\n",
              "      <td>0</td>\n",
              "      <td>0</td>\n",
              "      <td>0</td>\n",
              "      <td>0</td>\n",
              "      <td>0</td>\n",
              "      <td>0</td>\n",
              "      <td>0</td>\n",
              "    </tr>\n",
              "    <tr>\n",
              "      <td>3</td>\n",
              "      <td>1997</td>\n",
              "      <td>31.24</td>\n",
              "      <td>52.42</td>\n",
              "      <td>37.93</td>\n",
              "      <td>176.33</td>\n",
              "      <td>35.27</td>\n",
              "      <td>540.90</td>\n",
              "      <td>12.69</td>\n",
              "      <td>24.04</td>\n",
              "      <td>1.20</td>\n",
              "      <td>...</td>\n",
              "      <td>0</td>\n",
              "      <td>0</td>\n",
              "      <td>0</td>\n",
              "      <td>0</td>\n",
              "      <td>0</td>\n",
              "      <td>0</td>\n",
              "      <td>0</td>\n",
              "      <td>0</td>\n",
              "      <td>0</td>\n",
              "      <td>0</td>\n",
              "    </tr>\n",
              "    <tr>\n",
              "      <td>4</td>\n",
              "      <td>1997</td>\n",
              "      <td>31.24</td>\n",
              "      <td>52.42</td>\n",
              "      <td>37.93</td>\n",
              "      <td>176.33</td>\n",
              "      <td>35.27</td>\n",
              "      <td>540.90</td>\n",
              "      <td>12.69</td>\n",
              "      <td>24.04</td>\n",
              "      <td>0.79</td>\n",
              "      <td>...</td>\n",
              "      <td>0</td>\n",
              "      <td>0</td>\n",
              "      <td>0</td>\n",
              "      <td>0</td>\n",
              "      <td>0</td>\n",
              "      <td>0</td>\n",
              "      <td>0</td>\n",
              "      <td>0</td>\n",
              "      <td>0</td>\n",
              "      <td>0</td>\n",
              "    </tr>\n",
              "    <tr>\n",
              "      <td>...</td>\n",
              "      <td>...</td>\n",
              "      <td>...</td>\n",
              "      <td>...</td>\n",
              "      <td>...</td>\n",
              "      <td>...</td>\n",
              "      <td>...</td>\n",
              "      <td>...</td>\n",
              "      <td>...</td>\n",
              "      <td>...</td>\n",
              "      <td>...</td>\n",
              "      <td>...</td>\n",
              "      <td>...</td>\n",
              "      <td>...</td>\n",
              "      <td>...</td>\n",
              "      <td>...</td>\n",
              "      <td>...</td>\n",
              "      <td>...</td>\n",
              "      <td>...</td>\n",
              "      <td>...</td>\n",
              "      <td>...</td>\n",
              "      <td>...</td>\n",
              "    </tr>\n",
              "    <tr>\n",
              "      <td>8431</td>\n",
              "      <td>2012</td>\n",
              "      <td>21.12</td>\n",
              "      <td>11.71</td>\n",
              "      <td>29.56</td>\n",
              "      <td>0.94</td>\n",
              "      <td>13.78</td>\n",
              "      <td>16.48</td>\n",
              "      <td>0.57</td>\n",
              "      <td>11.58</td>\n",
              "      <td>1.00</td>\n",
              "      <td>...</td>\n",
              "      <td>0</td>\n",
              "      <td>0</td>\n",
              "      <td>0</td>\n",
              "      <td>0</td>\n",
              "      <td>0</td>\n",
              "      <td>0</td>\n",
              "      <td>0</td>\n",
              "      <td>0</td>\n",
              "      <td>0</td>\n",
              "      <td>0</td>\n",
              "    </tr>\n",
              "    <tr>\n",
              "      <td>8432</td>\n",
              "      <td>2012</td>\n",
              "      <td>21.12</td>\n",
              "      <td>11.71</td>\n",
              "      <td>29.56</td>\n",
              "      <td>0.94</td>\n",
              "      <td>13.78</td>\n",
              "      <td>16.48</td>\n",
              "      <td>0.57</td>\n",
              "      <td>11.58</td>\n",
              "      <td>0.79</td>\n",
              "      <td>...</td>\n",
              "      <td>0</td>\n",
              "      <td>0</td>\n",
              "      <td>0</td>\n",
              "      <td>0</td>\n",
              "      <td>0</td>\n",
              "      <td>0</td>\n",
              "      <td>0</td>\n",
              "      <td>0</td>\n",
              "      <td>0</td>\n",
              "      <td>0</td>\n",
              "    </tr>\n",
              "    <tr>\n",
              "      <td>8433</td>\n",
              "      <td>2012</td>\n",
              "      <td>26.24</td>\n",
              "      <td>23.93</td>\n",
              "      <td>33.14</td>\n",
              "      <td>3.20</td>\n",
              "      <td>19.37</td>\n",
              "      <td>355.32</td>\n",
              "      <td>2.45</td>\n",
              "      <td>17.09</td>\n",
              "      <td>2.83</td>\n",
              "      <td>...</td>\n",
              "      <td>0</td>\n",
              "      <td>1</td>\n",
              "      <td>0</td>\n",
              "      <td>0</td>\n",
              "      <td>0</td>\n",
              "      <td>0</td>\n",
              "      <td>0</td>\n",
              "      <td>0</td>\n",
              "      <td>0</td>\n",
              "      <td>0</td>\n",
              "    </tr>\n",
              "    <tr>\n",
              "      <td>8434</td>\n",
              "      <td>2012</td>\n",
              "      <td>23.89</td>\n",
              "      <td>31.07</td>\n",
              "      <td>33.14</td>\n",
              "      <td>586.60</td>\n",
              "      <td>18.90</td>\n",
              "      <td>664.42</td>\n",
              "      <td>38.79</td>\n",
              "      <td>11.58</td>\n",
              "      <td>1.00</td>\n",
              "      <td>...</td>\n",
              "      <td>0</td>\n",
              "      <td>0</td>\n",
              "      <td>0</td>\n",
              "      <td>0</td>\n",
              "      <td>0</td>\n",
              "      <td>0</td>\n",
              "      <td>0</td>\n",
              "      <td>0</td>\n",
              "      <td>0</td>\n",
              "      <td>0</td>\n",
              "    </tr>\n",
              "    <tr>\n",
              "      <td>8435</td>\n",
              "      <td>2012</td>\n",
              "      <td>23.89</td>\n",
              "      <td>31.07</td>\n",
              "      <td>33.14</td>\n",
              "      <td>586.60</td>\n",
              "      <td>18.90</td>\n",
              "      <td>664.42</td>\n",
              "      <td>38.79</td>\n",
              "      <td>11.58</td>\n",
              "      <td>7.62</td>\n",
              "      <td>...</td>\n",
              "      <td>0</td>\n",
              "      <td>0</td>\n",
              "      <td>0</td>\n",
              "      <td>0</td>\n",
              "      <td>0</td>\n",
              "      <td>1</td>\n",
              "      <td>0</td>\n",
              "      <td>0</td>\n",
              "      <td>0</td>\n",
              "      <td>0</td>\n",
              "    </tr>\n",
              "  </tbody>\n",
              "</table>\n",
              "<p>8436 rows × 72 columns</p>\n",
              "</div>"
            ],
            "text/plain": [
              "      Year  avgTemp  Cloud Cover  maxTemp  Precipitation  vapPressure  \\\n",
              "0     1997    31.24        52.42    37.93         176.33        35.27   \n",
              "1     1997    31.24        52.42    37.93         176.33        35.27   \n",
              "2     1997    31.24        52.42    37.93         176.33        35.27   \n",
              "3     1997    31.24        52.42    37.93         176.33        35.27   \n",
              "4     1997    31.24        52.42    37.93         176.33        35.27   \n",
              "...    ...      ...          ...      ...            ...          ...   \n",
              "8431  2012    21.12        11.71    29.56           0.94        13.78   \n",
              "8432  2012    21.12        11.71    29.56           0.94        13.78   \n",
              "8433  2012    26.24        23.93    33.14           3.20        19.37   \n",
              "8434  2012    23.89        31.07    33.14         586.60        18.90   \n",
              "8435  2012    23.89        31.07    33.14         586.60        18.90   \n",
              "\n",
              "      Rainfall  Wet Day Freq  minTemp  Production  ...  \\\n",
              "0       540.90         12.69    24.04        0.76  ...   \n",
              "1       540.90         12.69    24.04        1.05  ...   \n",
              "2       540.90         12.69    24.04        1.00  ...   \n",
              "3       540.90         12.69    24.04        1.20  ...   \n",
              "4       540.90         12.69    24.04        0.79  ...   \n",
              "...        ...           ...      ...         ...  ...   \n",
              "8431     16.48          0.57    11.58        1.00  ...   \n",
              "8432     16.48          0.57    11.58        0.79  ...   \n",
              "8433    355.32          2.45    17.09        2.83  ...   \n",
              "8434    664.42         38.79    11.58        1.00  ...   \n",
              "8435    664.42         38.79    11.58        7.62  ...   \n",
              "\n",
              "      Crop_Rapeseed &Mustard  Crop_Rice  Crop_Sesamum  Crop_Small millets  \\\n",
              "0                          0          0             0                   0   \n",
              "1                          0          0             0                   0   \n",
              "2                          0          0             0                   0   \n",
              "3                          0          0             0                   0   \n",
              "4                          0          0             0                   0   \n",
              "...                      ...        ...           ...                 ...   \n",
              "8431                       0          0             0                   0   \n",
              "8432                       0          0             0                   0   \n",
              "8433                       0          1             0                   0   \n",
              "8434                       0          0             0                   0   \n",
              "8435                       0          0             0                   0   \n",
              "\n",
              "      Crop_Soyabean  Crop_Sugarcane  Crop_Tobacco  Crop_Urad  Crop_Wheat  \\\n",
              "0                 0               0             0          0           0   \n",
              "1                 0               0             0          0           0   \n",
              "2                 0               0             0          0           0   \n",
              "3                 0               0             0          0           0   \n",
              "4                 0               0             0          0           0   \n",
              "...             ...             ...           ...        ...         ...   \n",
              "8431              0               0             0          0           0   \n",
              "8432              0               0             0          0           0   \n",
              "8433              0               0             0          0           0   \n",
              "8434              0               0             0          0           0   \n",
              "8435              0               1             0          0           0   \n",
              "\n",
              "      Crop_other oilseeds  \n",
              "0                       0  \n",
              "1                       0  \n",
              "2                       0  \n",
              "3                       0  \n",
              "4                       0  \n",
              "...                   ...  \n",
              "8431                    0  \n",
              "8432                    0  \n",
              "8433                    0  \n",
              "8434                    0  \n",
              "8435                    0  \n",
              "\n",
              "[8436 rows x 72 columns]"
            ]
          },
          "metadata": {
            "tags": []
          },
          "execution_count": 126
        }
      ]
    },
    {
      "cell_type": "code",
      "metadata": {
        "id": "xumCWXVoKY4A",
        "colab_type": "code",
        "colab": {}
      },
      "source": [
        "y = df_coded['Production']\n",
        "X = df_coded.drop('Production',axis = 1) \n",
        "y = y.values\n",
        "X = X.values"
      ],
      "execution_count": 0,
      "outputs": []
    },
    {
      "cell_type": "code",
      "metadata": {
        "id": "lDQthS48KY4E",
        "colab_type": "code",
        "colab": {}
      },
      "source": [
        "X_train, X_test, y_train, y_test = train_test_split(X, y, test_size=0.19, random_state=42,shuffle = True)"
      ],
      "execution_count": 0,
      "outputs": []
    },
    {
      "cell_type": "code",
      "metadata": {
        "id": "tncda6iPKY4I",
        "colab_type": "code",
        "outputId": "895beb93-5dbb-4746-dcb7-f3bc60f36efe",
        "colab": {}
      },
      "source": [
        "print('Training Features Shape:', X_train.shape)\n",
        "print('Training Labels Shape:', y_train.shape)\n",
        "print('Testing Features Shape:', X_test.shape)\n",
        "print('Testing Labels Shape:', y_test.shape)"
      ],
      "execution_count": 0,
      "outputs": [
        {
          "output_type": "stream",
          "text": [
            "Training Features Shape: (6833, 71)\n",
            "Training Labels Shape: (6833,)\n",
            "Testing Features Shape: (1603, 71)\n",
            "Testing Labels Shape: (1603,)\n"
          ],
          "name": "stdout"
        }
      ]
    },
    {
      "cell_type": "code",
      "metadata": {
        "id": "cLwQCt6CKY4L",
        "colab_type": "code",
        "colab": {}
      },
      "source": [
        "from sklearn.preprocessing import StandardScaler\n",
        "\n",
        "scaler = StandardScaler()\n",
        "scaler.fit(X_train)\n",
        "X_train = scaler.transform(X_train)\n",
        "X_test = scaler.transform(X_test)"
      ],
      "execution_count": 0,
      "outputs": []
    },
    {
      "cell_type": "code",
      "metadata": {
        "id": "_8daqlfEKY4P",
        "colab_type": "code",
        "outputId": "07e2d384-ece4-4566-d9ab-d5a2d33b8966",
        "colab": {}
      },
      "source": [
        "scaler.mean_"
      ],
      "execution_count": 0,
      "outputs": [
        {
          "output_type": "execute_result",
          "data": {
            "text/plain": [
              "array([2.00518381e+03, 2.64384429e+01, 3.52928187e+01, 3.50587999e+01,\n",
              "       5.21416735e+02, 2.34488658e+01, 4.45252100e+02, 2.18564159e+01,\n",
              "       1.72535958e+01, 4.30264891e-02, 4.08312601e-02, 2.98551149e-02,\n",
              "       4.59534611e-02, 4.69779014e-02, 4.30264891e-02, 2.64890970e-02,\n",
              "       2.75135372e-02, 3.92214254e-02, 4.36118835e-02, 4.37582321e-02,\n",
              "       5.32708913e-02, 3.77579394e-02, 4.90267818e-02, 2.37084736e-02,\n",
              "       2.59037026e-02, 5.79540465e-02, 2.37084736e-02, 1.94643641e-02,\n",
              "       3.96604712e-02, 4.77096444e-02, 5.01975706e-02, 3.93677740e-02,\n",
              "       1.44885116e-02, 5.37099371e-02, 3.38065271e-02, 5.02561101e-01,\n",
              "       1.93180155e-01, 1.05224645e-01, 1.99034099e-01, 4.08312601e-02,\n",
              "       7.34669984e-02, 2.00497585e-02, 3.98068198e-02, 3.71725450e-02,\n",
              "       3.45382702e-02, 2.64890970e-02, 4.25874433e-02, 7.63939704e-02,\n",
              "       1.94643641e-02, 5.66369091e-02, 3.68798478e-02, 5.09293136e-02,\n",
              "       2.85379775e-02, 2.48792624e-03, 3.43919216e-02, 1.85862725e-02,\n",
              "       2.80989317e-02, 3.32211327e-02, 2.06351529e-02, 4.53680667e-03,\n",
              "       7.17108152e-03, 3.54163618e-02, 4.14166545e-02, 4.09776087e-02,\n",
              "       1.08297966e-02, 2.92697205e-03, 2.69281428e-02, 1.65373921e-02,\n",
              "       4.28801405e-02, 4.37582321e-02, 5.41489829e-03])"
            ]
          },
          "metadata": {
            "tags": []
          },
          "execution_count": 123
        }
      ]
    },
    {
      "cell_type": "code",
      "metadata": {
        "id": "0Cvu2GttKY4R",
        "colab_type": "code",
        "outputId": "e2f69357-78fc-476b-c620-78c2b8ecab59",
        "colab": {}
      },
      "source": [
        "scaler.var_"
      ],
      "execution_count": 0,
      "outputs": [
        {
          "output_type": "execute_result",
          "data": {
            "text/plain": [
              "array([2.10064583e+01, 1.10924927e+01, 2.77719294e+02, 1.73446500e+01,\n",
              "       1.86746463e+05, 2.30840652e+02, 1.53951260e+05, 2.56208554e+02,\n",
              "       1.96800848e+01, 4.11752103e-02, 3.91640683e-02, 2.89637870e-02,\n",
              "       4.38417406e-02, 4.47709781e-02, 4.11752103e-02, 2.57874248e-02,\n",
              "       2.67565425e-02, 3.76831052e-02, 4.17098871e-02, 4.18434492e-02,\n",
              "       5.04331034e-02, 3.63322774e-02, 4.66231565e-02, 2.31463819e-02,\n",
              "       2.52327008e-02, 5.45953750e-02, 2.31463819e-02, 1.90855026e-02,\n",
              "       3.80875183e-02, 4.54334342e-02, 4.76777745e-02, 3.78179524e-02,\n",
              "       1.42785947e-02, 5.08251797e-02, 3.26636459e-02, 2.49993441e-01,\n",
              "       1.55861583e-01, 9.41524192e-02, 1.59419527e-01, 3.91640683e-02,\n",
              "       6.80695985e-02, 1.96477657e-02, 3.82222369e-02, 3.57907469e-02,\n",
              "       3.33453781e-02, 2.57874248e-02, 4.07737530e-02, 7.05579317e-02,\n",
              "       1.90855026e-02, 5.34291696e-02, 3.55197246e-02, 4.83355186e-02,\n",
              "       2.77235613e-02, 2.48173646e-03, 3.32091173e-02, 1.82408230e-02,\n",
              "       2.73093817e-02, 3.21174891e-02, 2.02093434e-02, 4.51622406e-03,\n",
              "       7.11965711e-03, 3.41620431e-02, 3.97013152e-02, 3.92984443e-02,\n",
              "       1.07125121e-02, 2.91840488e-03, 2.62030180e-02, 1.62639067e-02,\n",
              "       4.10414340e-02, 4.18434492e-02, 5.38557716e-03])"
            ]
          },
          "metadata": {
            "tags": []
          },
          "execution_count": 124
        }
      ]
    },
    {
      "cell_type": "code",
      "metadata": {
        "id": "GVzClVdPKY4U",
        "colab_type": "code",
        "colab": {}
      },
      "source": [
        ""
      ],
      "execution_count": 0,
      "outputs": []
    },
    {
      "cell_type": "code",
      "metadata": {
        "id": "ecASZ8aeKY4W",
        "colab_type": "code",
        "colab": {}
      },
      "source": [
        ""
      ],
      "execution_count": 0,
      "outputs": []
    },
    {
      "cell_type": "markdown",
      "metadata": {
        "id": "2jpvUuBVKY4a",
        "colab_type": "text"
      },
      "source": [
        "# k Nearest Neighbour Regressor Algorithm"
      ]
    },
    {
      "cell_type": "code",
      "metadata": {
        "id": "g4UePEF3KY4a",
        "colab_type": "code",
        "outputId": "a39e3733-476a-4e4e-cb08-9c2d0ad0b91e",
        "colab": {}
      },
      "source": [
        "rmse_val = [] #to store rmse values for different k\n",
        "for K in range(20):\n",
        "    K = K+1\n",
        "    model1 = KNeighborsRegressor(n_neighbors = K)\n",
        "    model1.fit(X_train, y_train)  #fit the model\n",
        "    y_pred = model1.predict(X_test) #make prediction on test set\n",
        "    error = sqrt(mean_squared_error(y_test,y_pred)) #calculate rmse\n",
        "    rmse_val.append(error) #store rmse values\n",
        "    print('RMSE value for k= ' , K , 'is:', error)"
      ],
      "execution_count": 0,
      "outputs": [
        {
          "output_type": "stream",
          "text": [
            "RMSE value for k=  1 is: 6.3459889483831144\n",
            "RMSE value for k=  2 is: 5.741895762950499\n",
            "RMSE value for k=  3 is: 5.400613810938515\n",
            "RMSE value for k=  4 is: 5.199696274615785\n",
            "RMSE value for k=  5 is: 5.178279430372056\n",
            "RMSE value for k=  6 is: 5.154808644280217\n",
            "RMSE value for k=  7 is: 5.215284679551997\n",
            "RMSE value for k=  8 is: 5.192301974775268\n",
            "RMSE value for k=  9 is: 5.157839203076772\n",
            "RMSE value for k=  10 is: 5.1593844920560405\n",
            "RMSE value for k=  11 is: 5.171573525419456\n",
            "RMSE value for k=  12 is: 5.180555811675339\n",
            "RMSE value for k=  13 is: 5.133889934594933\n",
            "RMSE value for k=  14 is: 5.173609526762908\n",
            "RMSE value for k=  15 is: 5.181020146653869\n",
            "RMSE value for k=  16 is: 5.162610660487605\n",
            "RMSE value for k=  17 is: 5.174270737018614\n",
            "RMSE value for k=  18 is: 5.188070688785126\n",
            "RMSE value for k=  19 is: 5.184642460367581\n",
            "RMSE value for k=  20 is: 5.20571731155794\n"
          ],
          "name": "stdout"
        }
      ]
    },
    {
      "cell_type": "code",
      "metadata": {
        "id": "22VP1sYMKY4e",
        "colab_type": "code",
        "outputId": "d330ee4e-fe61-498e-b0ab-a15afd8ef879",
        "colab": {}
      },
      "source": [
        "#plotting the rmse values against k values\n",
        "curve = pd.DataFrame(rmse_val) #elbow curve \n",
        "curve.plot()"
      ],
      "execution_count": 0,
      "outputs": [
        {
          "output_type": "execute_result",
          "data": {
            "text/plain": [
              "<matplotlib.axes._subplots.AxesSubplot at 0x7fa8935eee50>"
            ]
          },
          "metadata": {
            "tags": []
          },
          "execution_count": 131
        },
        {
          "output_type": "display_data",
          "data": {
            "image/png": "[encoded data removed]",
            "text/plain": [
              "<Figure size 432x288 with 1 Axes>"
            ]
          },
          "metadata": {
            "tags": [],
            "needs_background": "light"
          }
        }
      ]
    },
    {
      "cell_type": "code",
      "metadata": {
        "id": "9dWf8AmGKY4i",
        "colab_type": "code",
        "outputId": "5e7bbc72-9f6e-4dd1-98e2-bbc924ed3fc8",
        "colab": {}
      },
      "source": [
        "from sklearn.model_selection import GridSearchCV\n",
        "params = {'n_neighbors':[2,3,4,5,6,7,8,9,12]}\n",
        "\n",
        "knn = KNeighborsRegressor()\n",
        "\n",
        "model1 = GridSearchCV(knn, params, cv=5)\n",
        "model1.fit(X_train,y_train)\n",
        "model1.best_params_"
      ],
      "execution_count": 0,
      "outputs": [
        {
          "output_type": "execute_result",
          "data": {
            "text/plain": [
              "{'n_neighbors': 5}"
            ]
          },
          "metadata": {
            "tags": []
          },
          "execution_count": 78
        }
      ]
    },
    {
      "cell_type": "code",
      "metadata": {
        "id": "FB3CgR2WKY4l",
        "colab_type": "code",
        "colab": {}
      },
      "source": [
        "knn_pred = model1.predict(X_test)"
      ],
      "execution_count": 0,
      "outputs": []
    },
    {
      "cell_type": "code",
      "metadata": {
        "id": "XzfdT6O4KY4o",
        "colab_type": "code",
        "outputId": "58a1dc75-5496-473f-8eed-f2906d4c7945",
        "colab": {}
      },
      "source": [
        "y_test"
      ],
      "execution_count": 0,
      "outputs": [
        {
          "output_type": "execute_result",
          "data": {
            "text/plain": [
              "array([1.78, 0.6 , 2.  , ..., 2.14, 1.5 , 0.48])"
            ]
          },
          "metadata": {
            "tags": []
          },
          "execution_count": 80
        }
      ]
    },
    {
      "cell_type": "code",
      "metadata": {
        "id": "FL2YwOLHKY4v",
        "colab_type": "code",
        "outputId": "7c39e8b6-33ac-429e-ef95-2f62ee553b86",
        "colab": {}
      },
      "source": [
        "knn_pred"
      ],
      "execution_count": 0,
      "outputs": [
        {
          "output_type": "execute_result",
          "data": {
            "text/plain": [
              "array([1.834, 0.482, 1.366, ..., 2.206, 1.51 , 0.5  ])"
            ]
          },
          "metadata": {
            "tags": []
          },
          "execution_count": 81
        }
      ]
    },
    {
      "cell_type": "code",
      "metadata": {
        "id": "gXIYsTGoKY4z",
        "colab_type": "code",
        "outputId": "f617eab1-a957-4c17-ee51-d41a47098b93",
        "colab": {}
      },
      "source": [
        "print(\"kNN Accuracy: \" + str((model1.score(X_test,y_test) * 100).round(2)) + \" %\")"
      ],
      "execution_count": 0,
      "outputs": [
        {
          "output_type": "stream",
          "text": [
            "kNN Accuracy: 87.51 %\n"
          ],
          "name": "stdout"
        }
      ]
    },
    {
      "cell_type": "code",
      "metadata": {
        "id": "7XGdpVosKY41",
        "colab_type": "code",
        "outputId": "2805b660-83e8-41d7-af36-69dea430a791",
        "colab": {}
      },
      "source": [
        "error = err(y_test, knn_pred)\n",
        "print( \"MSE: %.4f\" % error)"
      ],
      "execution_count": 0,
      "outputs": [
        {
          "output_type": "stream",
          "text": [
            "MSE: 26.8146\n"
          ],
          "name": "stdout"
        }
      ]
    },
    {
      "cell_type": "code",
      "metadata": {
        "id": "_k5bdjk7KY44",
        "colab_type": "code",
        "outputId": "20049878-a63d-44d1-a5bb-a578af40e5b5",
        "colab": {}
      },
      "source": [
        "plt.scatter(y_test,knn_pred)\n",
        "plt.show()"
      ],
      "execution_count": 0,
      "outputs": [
        {
          "output_type": "display_data",
          "data": {
            "image/png": "[encoded data removed]",
            "text/plain": [
              "<Figure size 432x288 with 1 Axes>"
            ]
          },
          "metadata": {
            "tags": [],
            "needs_background": "light"
          }
        }
      ]
    },
    {
      "cell_type": "markdown",
      "metadata": {
        "id": "QK6je6imKY46",
        "colab_type": "text"
      },
      "source": [
        "# Gredient Boosting XgBoost Regressor Algorithm"
      ]
    },
    {
      "cell_type": "code",
      "metadata": {
        "id": "0xWjaXb5KY46",
        "colab_type": "code",
        "colab": {}
      },
      "source": [
        "# Parameters\n",
        "params = {'n_estimators' :600, 'learning_rate' : 0.4, 'loss' : 'ls',\n",
        "         'max_depth' : 8}\n",
        "# instantiating the model\n",
        "model2 = GradientBoostingRegressor(**params)"
      ],
      "execution_count": 0,
      "outputs": []
    },
    {
      "cell_type": "code",
      "metadata": {
        "id": "i6ny5QsaKY4_",
        "colab_type": "code",
        "outputId": "c297f759-a1f8-4b99-a012-fca2e0a62916",
        "colab": {}
      },
      "source": [
        "# fitting the model\n",
        "model2.fit(X_train, y_train)"
      ],
      "execution_count": 0,
      "outputs": [
        {
          "output_type": "execute_result",
          "data": {
            "text/plain": [
              "GradientBoostingRegressor(alpha=0.9, criterion='friedman_mse', init=None,\n",
              "                          learning_rate=0.4, loss='ls', max_depth=8,\n",
              "                          max_features=None, max_leaf_nodes=None,\n",
              "                          min_impurity_decrease=0.0, min_impurity_split=None,\n",
              "                          min_samples_leaf=1, min_samples_split=2,\n",
              "                          min_weight_fraction_leaf=0.0, n_estimators=600,\n",
              "                          n_iter_no_change=None, presort='auto',\n",
              "                          random_state=None, subsample=1.0, tol=0.0001,\n",
              "                          validation_fraction=0.1, verbose=0, warm_start=False)"
            ]
          },
          "metadata": {
            "tags": []
          },
          "execution_count": 86
        }
      ]
    },
    {
      "cell_type": "code",
      "metadata": {
        "id": "rVKdpyr9KY5B",
        "colab_type": "code",
        "colab": {}
      },
      "source": [
        "Xg_pred = model2.predict(X_test)"
      ],
      "execution_count": 0,
      "outputs": []
    },
    {
      "cell_type": "code",
      "metadata": {
        "id": "ikW17ngtKY5F",
        "colab_type": "code",
        "outputId": "fd53c687-714b-40b2-e3f0-8daf18351a7d",
        "colab": {}
      },
      "source": [
        "print(\"XgBoost Accuracy: \" + str((model2.score(X_test,y_test) * 100).round(2)) + \" %\")"
      ],
      "execution_count": 0,
      "outputs": [
        {
          "output_type": "stream",
          "text": [
            "XgBoost Accuracy: 88.61 %\n"
          ],
          "name": "stdout"
        }
      ]
    },
    {
      "cell_type": "code",
      "metadata": {
        "id": "TnzZuSI_KY5H",
        "colab_type": "code",
        "outputId": "f74dc052-476b-4fc7-9604-83f99da3f558",
        "colab": {}
      },
      "source": [
        "error2 = err(y_test, Xg_pred)\n",
        "print( \"MSE: %.4f\" % error2)"
      ],
      "execution_count": 0,
      "outputs": [
        {
          "output_type": "stream",
          "text": [
            "MSE: 24.4485\n"
          ],
          "name": "stdout"
        }
      ]
    },
    {
      "cell_type": "code",
      "metadata": {
        "id": "ymCYMRpuKY5K",
        "colab_type": "code",
        "outputId": "f76e865b-af84-49c4-de70-8fec7f0b7360",
        "colab": {}
      },
      "source": [
        "plt.scatter(y_test,Xg_pred)\n",
        "plt.show()"
      ],
      "execution_count": 0,
      "outputs": [
        {
          "output_type": "display_data",
          "data": {
            "image/png": "[encoded data removed]",
            "text/plain": [
              "<Figure size 432x288 with 1 Axes>"
            ]
          },
          "metadata": {
            "tags": [],
            "needs_background": "light"
          }
        }
      ]
    },
    {
      "cell_type": "markdown",
      "metadata": {
        "id": "A1yuI8b1KY5N",
        "colab_type": "text"
      },
      "source": [
        "# Random Forest Regressor Algorithm"
      ]
    },
    {
      "cell_type": "code",
      "metadata": {
        "id": "PJnWgbSGKY5N",
        "colab_type": "code",
        "colab": {}
      },
      "source": [
        "model3 = RandomForestRegressor(n_jobs=-1)"
      ],
      "execution_count": 0,
      "outputs": []
    },
    {
      "cell_type": "code",
      "metadata": {
        "id": "694FVFkuKY5S",
        "colab_type": "code",
        "outputId": "a800bbfd-d830-4b0e-a08e-eaa71d5b2f06",
        "colab": {}
      },
      "source": [
        "# Try different numbers of n_estimators - this will take a minute or so\n",
        "estimators = np.arange(10, 200, 10)\n",
        "scores = []\n",
        "for n in estimators:\n",
        "    model3.set_params(n_estimators=n)\n",
        "    model3.fit(X_train, y_train)\n",
        "    scores.append(model3.score(X_test, y_test))\n",
        "plt.title(\"Effect of n_estimators\")\n",
        "plt.xlabel(\"n_estimator\")\n",
        "plt.ylabel(\"score\")\n",
        "plt.plot(estimators, scores)"
      ],
      "execution_count": 0,
      "outputs": [
        {
          "output_type": "execute_result",
          "data": {
            "text/plain": [
              "[<matplotlib.lines.Line2D at 0x7fa891fea7d0>]"
            ]
          },
          "metadata": {
            "tags": []
          },
          "execution_count": 92
        },
        {
          "output_type": "display_data",
          "data": {
            "image/png": "[encoded data removed]",
            "text/plain": [
              "<Figure size 432x288 with 1 Axes>"
            ]
          },
          "metadata": {
            "tags": [],
            "needs_background": "light"
          }
        }
      ]
    },
    {
      "cell_type": "code",
      "metadata": {
        "id": "08CRZ309KY5U",
        "colab_type": "code",
        "outputId": "9a55db4c-661e-45b2-d059-6f012cb7ddcd",
        "colab": {}
      },
      "source": [
        "scores"
      ],
      "execution_count": 0,
      "outputs": [
        {
          "output_type": "execute_result",
          "data": {
            "text/plain": [
              "[0.9043251252977873,\n",
              " 0.9126807080423107,\n",
              " 0.9120198470014139,\n",
              " 0.9177998696737084,\n",
              " 0.9147575861266243,\n",
              " 0.9142854213654532,\n",
              " 0.9171385649124888,\n",
              " 0.9174516803864466,\n",
              " 0.9160458844260778,\n",
              " 0.9171954895928623,\n",
              " 0.9186016233190427,\n",
              " 0.9192805398215195,\n",
              " 0.9181001968389016,\n",
              " 0.917901651314141,\n",
              " 0.9164731875315167,\n",
              " 0.9176765346441269,\n",
              " 0.9166232868417596,\n",
              " 0.9171435637896278,\n",
              " 0.9183191599731586]"
            ]
          },
          "metadata": {
            "tags": []
          },
          "execution_count": 93
        }
      ]
    },
    {
      "cell_type": "code",
      "metadata": {
        "id": "luZ-cS8OKY5X",
        "colab_type": "code",
        "outputId": "4079ffe9-71a6-4310-bf36-cbdc34fb4fea",
        "colab": {}
      },
      "source": [
        "model3.set_params(n_estimators=130)\n",
        "model3.fit(X_train, y_train)\n",
        "model3.score(X_test, y_test)"
      ],
      "execution_count": 0,
      "outputs": [
        {
          "output_type": "execute_result",
          "data": {
            "text/plain": [
              "0.9179364742333534"
            ]
          },
          "metadata": {
            "tags": []
          },
          "execution_count": 95
        }
      ]
    },
    {
      "cell_type": "code",
      "metadata": {
        "id": "rvIYBW96KY5Z",
        "colab_type": "code",
        "colab": {}
      },
      "source": [
        "rf_pred = model3.predict(X_test)"
      ],
      "execution_count": 0,
      "outputs": []
    },
    {
      "cell_type": "code",
      "metadata": {
        "id": "PMShJ2ozKY5c",
        "colab_type": "code",
        "outputId": "fe858e1d-4343-44b2-ad82-9dff757ab864",
        "colab": {}
      },
      "source": [
        "print(\"Random Forest Accuracy: \" + str((model3.score(X_test,y_test) * 100).round(2)) + \" %\")"
      ],
      "execution_count": 0,
      "outputs": [
        {
          "output_type": "stream",
          "text": [
            "Random Forest Accuracy: 91.79 %\n"
          ],
          "name": "stdout"
        }
      ]
    },
    {
      "cell_type": "code",
      "metadata": {
        "id": "e6G-uMEkKY5g",
        "colab_type": "code",
        "outputId": "2b797b1c-3486-48d0-efaf-91cd82907f43",
        "colab": {}
      },
      "source": [
        "error3 = err(y_test, rf_pred)\n",
        "print( \"MSE: %.4f\" % error3)"
      ],
      "execution_count": 0,
      "outputs": [
        {
          "output_type": "stream",
          "text": [
            "MSE: 17.6174\n"
          ],
          "name": "stdout"
        }
      ]
    },
    {
      "cell_type": "code",
      "metadata": {
        "id": "JPZJt2buKY5k",
        "colab_type": "code",
        "outputId": "c5a41514-b7eb-4321-d6ea-07ccead960c9",
        "colab": {}
      },
      "source": [
        "from sklearn.externals import joblib \n",
        "  \n",
        "# Save the model as a pickle in a file \n",
        "joblib.dump(model3, '/root/Keyur Khant/Project/Models/FinalRFModel.pkl') "
      ],
      "execution_count": 0,
      "outputs": [
        {
          "output_type": "execute_result",
          "data": {
            "text/plain": [
              "['/root/Keyur Khant/Project/Models/FinalRFModel.pkl']"
            ]
          },
          "metadata": {
            "tags": []
          },
          "execution_count": 108
        }
      ]
    },
    {
      "cell_type": "code",
      "metadata": {
        "id": "R0cv0aLpKY5m",
        "colab_type": "code",
        "outputId": "467b100a-0dd4-47d9-b02f-99cba11748c9",
        "colab": {}
      },
      "source": [
        "# Saving the data columns from training\n",
        "X_column = df_coded.drop('Production',axis = 1)\n",
        "model_columns = list(X_column.columns)\n",
        "joblib.dump(model_columns, '/root/Keyur Khant/Project/Models/FinalModel_columns.pkl')\n",
        "print(\"Models columns dumped!\")"
      ],
      "execution_count": 0,
      "outputs": [
        {
          "output_type": "stream",
          "text": [
            "Models columns dumped!\n"
          ],
          "name": "stdout"
        }
      ]
    },
    {
      "cell_type": "markdown",
      "metadata": {
        "id": "e9AY1mqEKY5p",
        "colab_type": "text"
      },
      "source": [
        "# XgBoost Regressor"
      ]
    },
    {
      "cell_type": "code",
      "metadata": {
        "id": "2UZF8jBVKY5p",
        "colab_type": "code",
        "colab": {}
      },
      "source": [
        "model4 = xgb.XGBRegressor(colsample_bytree=0.4,\n",
        "                 gamma=0,                 \n",
        "                 learning_rate=0.07,\n",
        "                 max_depth=3,\n",
        "                 min_child_weight=1.5,\n",
        "                 n_estimators=10000,                                                                    \n",
        "                 reg_alpha=0.75,\n",
        "                 reg_lambda=0.45,\n",
        "                 subsample=0.6,\n",
        "                 seed=42) "
      ],
      "execution_count": 0,
      "outputs": []
    },
    {
      "cell_type": "code",
      "metadata": {
        "id": "6yc7LEYfKY5s",
        "colab_type": "code",
        "outputId": "791cb723-557a-4fd3-c785-df68ae5e3827",
        "colab": {}
      },
      "source": [
        "model4.fit(X_train,y_train)"
      ],
      "execution_count": 0,
      "outputs": [
        {
          "output_type": "execute_result",
          "data": {
            "text/plain": [
              "XGBRegressor(base_score=0.5, booster=None, colsample_bylevel=1,\n",
              "             colsample_bynode=1, colsample_bytree=0.4, gamma=0, gpu_id=-1,\n",
              "             importance_type='gain', interaction_constraints=None,\n",
              "             learning_rate=0.07, max_delta_step=0, max_depth=3,\n",
              "             min_child_weight=1.5, missing=nan, monotone_constraints=None,\n",
              "             n_estimators=10000, n_jobs=0, num_parallel_tree=1,\n",
              "             objective='reg:squarederror', random_state=42, reg_alpha=0.75,\n",
              "             reg_lambda=0.45, scale_pos_weight=1, seed=42, subsample=0.6,\n",
              "             tree_method=None, validate_parameters=False, verbosity=None)"
            ]
          },
          "metadata": {
            "tags": []
          },
          "execution_count": 100
        }
      ]
    },
    {
      "cell_type": "code",
      "metadata": {
        "id": "PANN_pGvKY5u",
        "colab_type": "code",
        "colab": {}
      },
      "source": [
        "preds = model4.predict(X_test)"
      ],
      "execution_count": 0,
      "outputs": []
    },
    {
      "cell_type": "code",
      "metadata": {
        "id": "ASiV_QhzKY5w",
        "colab_type": "code",
        "outputId": "cd8e2a29-c66a-49c9-f8fa-8c72dca8d4f1",
        "colab": {}
      },
      "source": [
        "print(\"Random Forest Accuracy: \" + str((model4.score(X_test,y_test) * 100).round(2)) + \" %\")"
      ],
      "execution_count": 0,
      "outputs": [
        {
          "output_type": "stream",
          "text": [
            "Random Forest Accuracy: 90.0 %\n"
          ],
          "name": "stdout"
        }
      ]
    },
    {
      "cell_type": "code",
      "metadata": {
        "id": "5aaHkMPtKY5z",
        "colab_type": "code",
        "outputId": "62c7022c-3ab7-4fc7-8e01-446e6c69cf7e",
        "colab": {}
      },
      "source": [
        "error4 = err(y_test, preds)\n",
        "print( \"MSE: %.4f\" % error4)"
      ],
      "execution_count": 0,
      "outputs": [
        {
          "output_type": "stream",
          "text": [
            "MSE: 21.4722\n"
          ],
          "name": "stdout"
        }
      ]
    },
    {
      "cell_type": "code",
      "metadata": {
        "id": "fvdOe8GzKY52",
        "colab_type": "code",
        "outputId": "01198cbd-7776-4ae4-8c2b-a0c32c1df0ec",
        "colab": {}
      },
      "source": [
        "plt.scatter(y_test,preds)\n",
        "plt.show()"
      ],
      "execution_count": 0,
      "outputs": [
        {
          "output_type": "display_data",
          "data": {
            "image/png": "[encoded data removed]",
            "text/plain": [
              "<Figure size 432x288 with 1 Axes>"
            ]
          },
          "metadata": {
            "tags": [],
            "needs_background": "light"
          }
        }
      ]
    },
    {
      "cell_type": "code",
      "metadata": {
        "id": "oye9EC9XKY53",
        "colab_type": "code",
        "colab": {}
      },
      "source": [
        ""
      ],
      "execution_count": 0,
      "outputs": []
    }
  ]
}